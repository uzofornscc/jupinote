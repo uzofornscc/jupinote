{
 "cells": [
  {
   "cell_type": "markdown",
   "id": "4c8d4158-353f-44e0-a329-b05a391a95f9",
   "metadata": {},
   "source": [
    "# Create function to add numbers"
   ]
  },
  {
   "cell_type": "code",
   "execution_count": null,
   "id": "a5c80749-4234-4ee7-859a-f94d374879b1",
   "metadata": {},
   "outputs": [
    {
     "data": {
      "text/plain": [
       "7"
      ]
     },
     "execution_count": 1,
     "metadata": {},
     "output_type": "execute_result"
    }
   ],
   "source": [
    "def add(x, y):\n",
    "    return x + y\n",
    "\n",
    "add(3, 4)"
   ]
  },
  {
   "cell_type": "markdown",
   "id": "109c8136-3e47-48a5-ac1e-395fc54f7273",
   "metadata": {},
   "source": [
    "The limitation of the function above; it can only add two numbers. To add two or more numbers, we consider another approach"
   ]
  },
  {
   "cell_type": "code",
   "execution_count": 3,
   "id": "5abd31a1-2ec0-4ae0-a564-6a9f043e647b",
   "metadata": {},
   "outputs": [
    {
     "name": "stdout",
     "output_type": "stream",
     "text": [
      "7\n",
      "12\n"
     ]
    }
   ],
   "source": [
    "def add_n(*args):\n",
    "    # *args takes positional arguments and converts to tuple\n",
    "    return sum(args)\n",
    "print(add_n(3, 4)) \n",
    "print(add_n(3, 4, 5))"
   ]
  }
 ],
 "metadata": {
  "kernelspec": {
   "display_name": "Python 3 (ipykernel)",
   "language": "python",
   "name": "python3"
  },
  "language_info": {
   "codemirror_mode": {
    "name": "ipython",
    "version": 3
   },
   "file_extension": ".py",
   "mimetype": "text/x-python",
   "name": "python",
   "nbconvert_exporter": "python",
   "pygments_lexer": "ipython3",
   "version": "3.13.7"
  }
 },
 "nbformat": 4,
 "nbformat_minor": 5
}
