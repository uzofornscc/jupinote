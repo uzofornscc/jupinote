{
 "cells": [
  {
   "cell_type": "markdown",
   "id": "775dbfa7-5174-4f0f-86b2-906269127f74",
   "metadata": {},
   "source": [
    "# Quick intro to python"
   ]
  },
  {
   "cell_type": "markdown",
   "id": "49300b8a-0c49-47e9-bb8b-e194ebecc35b",
   "metadata": {},
   "source": [
    "## The very first program"
   ]
  },
  {
   "cell_type": "code",
   "execution_count": 1,
   "id": "ba84f819-0888-41fc-835a-ee3f6455ab60",
   "metadata": {},
   "outputs": [
    {
     "name": "stdout",
     "output_type": "stream",
     "text": [
      "Hello world !!!\n"
     ]
    }
   ],
   "source": [
    "print(\"Hello world !!!\")"
   ]
  },
  {
   "cell_type": "markdown",
   "id": "64bfa7f4-2061-4bb2-95c2-16212fb4b622",
   "metadata": {},
   "source": [
    "## Create a variable"
   ]
  },
  {
   "cell_type": "code",
   "execution_count": 4,
   "id": "b69dd7ae-074d-4a4d-814d-6b3106ddcc96",
   "metadata": {},
   "outputs": [
    {
     "name": "stdout",
     "output_type": "stream",
     "text": [
      "Python for Ai\n"
     ]
    }
   ],
   "source": [
    "my_created_variable = \"Python for Ai\" # variable is created. Every string variable is enclosed in quote\n",
    "print(my_created_variable) #The created variable is used here. Compare with the print statement above for better understanding"
   ]
  },
  {
   "cell_type": "markdown",
   "id": "0b637f5c-13a2-41d2-9441-39c2019fd179",
   "metadata": {},
   "source": [
    "## Variable Types"
   ]
  },
  {
   "cell_type": "markdown",
   "id": "8e1964a0-0aa6-466e-a78c-9e4cabbe23c4",
   "metadata": {},
   "source": [
    "### The standard variables are string, integers, float(numbers with decimal point) and boolean\n",
    "1. string is always enclosed in double quote \"double quote\" or single quote like 'single quote'\n",
    "2. these quote repeated three times on each side serves as quotes too \"\"\"double quote\"\"\" or '''single quote'''\n",
    "3. note: same type and equal quote on both sides (''' ''') and not (''' \"\"\") or ('' ''')"
   ]
  },
  {
   "cell_type": "code",
   "execution_count": 6,
   "id": "926c4de2-bbe2-4cb2-884c-70a8ab774a06",
   "metadata": {},
   "outputs": [
    {
     "name": "stdout",
     "output_type": "stream",
     "text": [
      "single-quote single-quote-3x double-quote double-quote-3x\n"
     ]
    }
   ],
   "source": [
    "sq = 'single-quote'\n",
    "sq3 = '''single-quote-3x'''\n",
    "dq = \"double-quote\"\"\"\n",
    "dq3 = \"\"\"double-quote-3x\"\"\"\n",
    "print(sq, sq3, dq, dq3)"
   ]
  },
  {
   "cell_type": "code",
   "execution_count": 7,
   "id": "80321fc8-14df-41c3-83b7-63e75c7d5b11",
   "metadata": {},
   "outputs": [
    {
     "name": "stdout",
     "output_type": "stream",
     "text": [
      "10\n"
     ]
    }
   ],
   "source": [
    "# another type is integer\n",
    "whole_number = 10\n",
    "print(whole_number) #This is very straight forward"
   ]
  },
  {
   "cell_type": "code",
   "execution_count": null,
   "id": "5d7c1a43-ecfd-406b-9137-4621e610bd3f",
   "metadata": {},
   "outputs": [],
   "source": [
    "# float\n",
    "decimal_number = 10.56\n",
    "print(decimal_number)"
   ]
  },
  {
   "cell_type": "code",
   "execution_count": 3,
   "id": "8567b203-67f0-4c12-b485-7b63060a473c",
   "metadata": {},
   "outputs": [
    {
     "name": "stdout",
     "output_type": "stream",
     "text": [
      "True True\n"
     ]
    }
   ],
   "source": [
    "# boolean: only have two values True(1) and False(0)\n",
    "bol = True # bol is holding the boolean value True and not string value 'True'\n",
    "sbol = 'True'\n",
    "print(bol, sbol) # the difference is not noticeable until you do type checking"
   ]
  },
  {
   "cell_type": "markdown",
   "id": "8970777b-d5aa-47f6-8bf8-34c1601b97cb",
   "metadata": {},
   "source": [
    "## Type Checking"
   ]
  },
  {
   "cell_type": "code",
   "execution_count": 4,
   "id": "a204f153-e2ee-4c1c-93b3-bd68ae7212a5",
   "metadata": {},
   "outputs": [
    {
     "name": "stdout",
     "output_type": "stream",
     "text": [
      "<class 'bool'> <class 'str'>\n"
     ]
    }
   ],
   "source": [
    "print(type(bol), type(sbol))"
   ]
  },
  {
   "cell_type": "markdown",
   "id": "4c8d4158-353f-44e0-a329-b05a391a95f9",
   "metadata": {},
   "source": [
    "# Create function to add numbers"
   ]
  },
  {
   "cell_type": "code",
   "execution_count": null,
   "id": "46269de0-f29f-4e9f-9537-42aac2236719",
   "metadata": {},
   "outputs": [],
   "source": []
  },
  {
   "cell_type": "code",
   "execution_count": null,
   "id": "a5c80749-4234-4ee7-859a-f94d374879b1",
   "metadata": {},
   "outputs": [
    {
     "data": {
      "text/plain": [
       "7"
      ]
     },
     "execution_count": 1,
     "metadata": {},
     "output_type": "execute_result"
    }
   ],
   "source": [
    "def add(x, y):\n",
    "    return x + y\n",
    "\n",
    "add(3, 4)"
   ]
  },
  {
   "cell_type": "markdown",
   "id": "109c8136-3e47-48a5-ac1e-395fc54f7273",
   "metadata": {},
   "source": [
    "The limitation of the function above; it can only add two numbers. To add two or more numbers, we consider another approach"
   ]
  },
  {
   "cell_type": "code",
   "execution_count": 3,
   "id": "5abd31a1-2ec0-4ae0-a564-6a9f043e647b",
   "metadata": {},
   "outputs": [
    {
     "name": "stdout",
     "output_type": "stream",
     "text": [
      "7\n",
      "12\n"
     ]
    }
   ],
   "source": [
    "def add_n(*args):\n",
    "    # *args takes positional arguments and converts to tuple\n",
    "    return sum(args)\n",
    "print(add_n(3, 4)) \n",
    "print(add_n(3, 4, 5))"
   ]
  }
 ],
 "metadata": {
  "kernelspec": {
   "display_name": "Python 3 (ipykernel)",
   "language": "python",
   "name": "python3"
  },
  "language_info": {
   "codemirror_mode": {
    "name": "ipython",
    "version": 3
   },
   "file_extension": ".py",
   "mimetype": "text/x-python",
   "name": "python",
   "nbconvert_exporter": "python",
   "pygments_lexer": "ipython3",
   "version": "3.12.1"
  }
 },
 "nbformat": 4,
 "nbformat_minor": 5
}
